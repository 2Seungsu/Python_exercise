{
 "cells": [
  {
   "cell_type": "code",
   "execution_count": 41,
   "id": "4ffc2df3-2d21-4805-9bee-1a012bfb2552",
   "metadata": {},
   "outputs": [],
   "source": [
    "from IPython.core.display import HTML "
   ]
  },
  {
   "cell_type": "code",
   "execution_count": 42,
   "id": "e8462084-2625-4283-9c04-9f73a6df9e49",
   "metadata": {},
   "outputs": [],
   "source": [
    "from bs4 import BeautifulSoup"
   ]
  },
  {
   "cell_type": "code",
   "execution_count": 52,
   "id": "9218b213-47f2-49ad-8351-d438366b8515",
   "metadata": {},
   "outputs": [
    {
     "data": {
      "text/plain": [
       "'이름은 오해원이고 그룹은 엔믹스입니다.'"
      ]
     },
     "execution_count": 52,
     "metadata": {},
     "output_type": "execute_result"
    }
   ],
   "source": [
    "'이름은 {}이고 그룹은 {}입니다.'.format('오해원','엔믹스')"
   ]
  },
  {
   "cell_type": "code",
   "execution_count": 54,
   "id": "f75c5a62-c379-4983-abcb-330f2b74b0da",
   "metadata": {},
   "outputs": [
    {
     "data": {
      "text/plain": [
       "'이름은 오해원이고 그룹은 엔믹스입니다.'"
      ]
     },
     "execution_count": 54,
     "metadata": {},
     "output_type": "execute_result"
    }
   ],
   "source": [
    "'이름은 {name}이고 그룹은 {group}입니다.'.format(group='엔믹스',name='오해원')"
   ]
  },
  {
   "cell_type": "code",
   "execution_count": 55,
   "id": "225e5232-7642-4fc5-b211-84695b830330",
   "metadata": {},
   "outputs": [],
   "source": [
    "html_name = \"<p>이름</p>\"\n",
    "soup_name = BeautifulSoup(html_name,'html.parser')"
   ]
  },
  {
   "cell_type": "code",
   "execution_count": 56,
   "id": "c52644b6-ef2c-4ece-8cc1-6577c17b64b1",
   "metadata": {},
   "outputs": [
    {
     "data": {
      "text/plain": [
       "'이름'"
      ]
     },
     "execution_count": 56,
     "metadata": {},
     "output_type": "execute_result"
    }
   ],
   "source": [
    "soup_name.text"
   ]
  },
  {
   "cell_type": "code",
   "execution_count": 57,
   "id": "0f646b7f-a966-4adc-aa3a-d80cdafeb14c",
   "metadata": {},
   "outputs": [
    {
     "data": {
      "text/html": [
       "<p>이름</p>"
      ],
      "text/plain": [
       "<IPython.core.display.HTML object>"
      ]
     },
     "execution_count": 57,
     "metadata": {},
     "output_type": "execute_result"
    }
   ],
   "source": [
    "HTML(html_name)"
   ]
  },
  {
   "cell_type": "code",
   "execution_count": 47,
   "id": "a1bd0bd9-541e-4926-a18a-38e2645283e9",
   "metadata": {},
   "outputs": [],
   "source": [
    "html_img = \"<img src='https://stat.jbnu.ac.kr/sites/stat/atchmnfl_mngr/imageSlide/469/temp_1573001043314100.jpg'>\"\n",
    "soup_img = BeautifulSoup(html_img,'html.parser')"
   ]
  },
  {
   "cell_type": "code",
   "execution_count": 48,
   "id": "75827610-a1ac-4439-acf1-0912d1cad87e",
   "metadata": {},
   "outputs": [
    {
     "data": {
      "text/plain": [
       "<img src=\"https://stat.jbnu.ac.kr/sites/stat/atchmnfl_mngr/imageSlide/469/temp_1573001043314100.jpg\"/>"
      ]
     },
     "execution_count": 48,
     "metadata": {},
     "output_type": "execute_result"
    }
   ],
   "source": [
    "soup_img.find('img')"
   ]
  },
  {
   "cell_type": "code",
   "execution_count": 49,
   "id": "62d28d6a-5b7c-4f01-8a55-5f49ec5c7a0c",
   "metadata": {},
   "outputs": [
    {
     "data": {
      "text/plain": [
       "'https://stat.jbnu.ac.kr/sites/stat/atchmnfl_mngr/imageSlide/469/temp_1573001043314100.jpg'"
      ]
     },
     "execution_count": 49,
     "metadata": {},
     "output_type": "execute_result"
    }
   ],
   "source": [
    "soup_img.find('img')['src']"
   ]
  },
  {
   "cell_type": "code",
   "execution_count": 61,
   "id": "6c81bf73-048a-4507-ad4c-b94bccb2f9c7",
   "metadata": {},
   "outputs": [
    {
     "data": {
      "text/html": [
       "<p> 오해원 </p> <img src=https://search.pstatic.net/common/?src=http%3A%2F%2Fblogfiles.naver.net%2FMjAyMzAxMDJfOTgg%2FMDAxNjcyNjI3MzU5NDA0.QhcozhCfUihdAK0OsZg1Ed_J2XBQ9bL2bGWB_QZZeWUg.PJLdIZ0EtlvbtZV0Im1r4w72fZYc5CmszRwmwwoqOLcg.JPEG.wjdrnrdl555%2F%25B4%25D9%25BF%25EE%25B7%25CE%25B5%25E5.jpg&type=sc960_832> <p> https://blog.naver.com/cryptoju/222972557113 </p>"
      ],
      "text/plain": [
       "<IPython.core.display.HTML object>"
      ]
     },
     "execution_count": 61,
     "metadata": {},
     "output_type": "execute_result"
    }
   ],
   "source": [
    "HTML(\"<p> 오해원 </p> <img src=https://search.pstatic.net/common/?src=http%3A%2F%2Fblogfiles.naver.net%2FMjAyMzAxMDJfOTgg%2FMDAxNjcyNjI3MzU5NDA0.QhcozhCfUihdAK0OsZg1Ed_J2XBQ9bL2bGWB_QZZeWUg.PJLdIZ0EtlvbtZV0Im1r4w72fZYc5CmszRwmwwoqOLcg.JPEG.wjdrnrdl555%2F%25B4%25D9%25BF%25EE%25B7%25CE%25B5%25E5.jpg&type=sc960_832> <p> https://blog.naver.com/cryptoju/222972557113 </p>\")"
   ]
  },
  {
   "cell_type": "code",
   "execution_count": 36,
   "id": "8cc4c55a-6dac-46e9-9583-37134bb7251c",
   "metadata": {},
   "outputs": [],
   "source": [
    "url='https://search.pstatic.net/common/?src=http%3A%2F%2Fblogfiles.naver.net%2FMjAyMzAxMDJfOTgg%2FMDAxNjcyNjI3MzU5NDA0.QhcozhCfUihdAK0OsZg1Ed_J2XBQ9bL2bGWB_QZZeWUg.PJLdIZ0EtlvbtZV0Im1r4w72fZYc5CmszRwmwwoqOLcg.JPEG.wjdrnrdl555%2F%25B4%25D9%25BF%25EE%25B7%25CE%25B5%25E5.jpg&type=sc960_832'"
   ]
  },
  {
   "cell_type": "code",
   "execution_count": 60,
   "id": "a0e02491-3715-413e-9573-57313f589f79",
   "metadata": {},
   "outputs": [
    {
     "data": {
      "text/html": [
       "<p> 오해원 </p> <img src= 'https://search.pstatic.net/common/?src=http%3A%2F%2Fblogfiles.naver.net%2FMjAyMzAxMDJfOTgg%2FMDAxNjcyNjI3MzU5NDA0.QhcozhCfUihdAK0OsZg1Ed_J2XBQ9bL2bGWB_QZZeWUg.PJLdIZ0EtlvbtZV0Im1r4w72fZYc5CmszRwmwwoqOLcg.JPEG.wjdrnrdl555%2F%25B4%25D9%25BF%25EE%25B7%25CE%25B5%25E5.jpg&type=sc960_832'> <p> 농담곰 </p> <p> https://blog.naver.com/cryptoju/222972557113 </p> "
      ],
      "text/plain": [
       "<IPython.core.display.HTML object>"
      ]
     },
     "execution_count": 60,
     "metadata": {},
     "output_type": "execute_result"
    }
   ],
   "source": [
    "html = \"<p> {title} </p> <img src= '{url}'> <p> {end} </p> <p> {site} </p> \" \n",
    "HTML(html.format(title='오해원',url=url,end='농담곰',site = 'https://blog.naver.com/cryptoju/222972557113'))"
   ]
  },
  {
   "cell_type": "code",
   "execution_count": 74,
   "id": "8273c07e-3b48-4047-aa94-5b1626923e5d",
   "metadata": {},
   "outputs": [],
   "source": [
    "class Oh():\n",
    "    #생성자 인스턴스\n",
    "    def __init__(self,_group,_aka,_title='오해원'):\n",
    "        self.title = _title\n",
    "        self.group = _group\n",
    "        self.aka = _aka\n",
    "    \n",
    "    def info(self):\n",
    "        print(f'{self.group}의 {self.title}은 {self.aka}이다.')\n",
    "        "
   ]
  },
  {
   "cell_type": "code",
   "execution_count": 75,
   "id": "1d7e1430-9e04-4c34-ba6c-54a79ee3f292",
   "metadata": {},
   "outputs": [],
   "source": [
    "a1 = Oh('엔믹스','농담곰')"
   ]
  },
  {
   "cell_type": "code",
   "execution_count": 76,
   "id": "e9b62da7-a2a4-42e6-8652-9edecb5dba37",
   "metadata": {},
   "outputs": [
    {
     "name": "stdout",
     "output_type": "stream",
     "text": [
      "엔믹스의 오해원은 농담곰이다.\n"
     ]
    }
   ],
   "source": [
    "a1.info()"
   ]
  },
  {
   "cell_type": "code",
   "execution_count": null,
   "id": "90292376-ba02-482b-81cf-087d39b5cf97",
   "metadata": {},
   "outputs": [],
   "source": []
  }
 ],
 "metadata": {
  "kernelspec": {
   "display_name": "Python 3 (ipykernel)",
   "language": "python",
   "name": "python3"
  },
  "language_info": {
   "codemirror_mode": {
    "name": "ipython",
    "version": 3
   },
   "file_extension": ".py",
   "mimetype": "text/x-python",
   "name": "python",
   "nbconvert_exporter": "python",
   "pygments_lexer": "ipython3",
   "version": "3.9.12"
  }
 },
 "nbformat": 4,
 "nbformat_minor": 5
}
