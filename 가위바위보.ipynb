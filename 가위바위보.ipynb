{
 "cells": [
  {
   "cell_type": "markdown",
   "id": "9cb2827c-ef2a-4020-b684-101b2c27a40e",
   "metadata": {},
   "source": [
    "### 가위바위보"
   ]
  },
  {
   "cell_type": "code",
   "execution_count": 3,
   "id": "a0e431d3-93cc-4254-a3a6-34477ade3ffb",
   "metadata": {},
   "outputs": [],
   "source": [
    "import numpy as np"
   ]
  },
  {
   "cell_type": "code",
   "execution_count": 4,
   "id": "667d76d0-79b6-4505-86ab-0341d610869c",
   "metadata": {},
   "outputs": [
    {
     "data": {
      "text/plain": [
       "'보'"
      ]
     },
     "execution_count": 4,
     "metadata": {},
     "output_type": "execute_result"
    }
   ],
   "source": [
    "np.random.choice(['가위','바위','보'])"
   ]
  },
  {
   "cell_type": "code",
   "execution_count": 5,
   "id": "760aa7f6-2c09-42f5-87dd-f5cf4b97f311",
   "metadata": {},
   "outputs": [],
   "source": [
    "#a는 (['가위','바위'])\n",
    "#가위가 1/2 바위가 1/2의 확률로 출력 \n",
    "#b는 (['가위','바위','보'])\n",
    "#가위, 바위, 보가 1/3의 확률로 출력 "
   ]
  },
  {
   "cell_type": "code",
   "execution_count": 50,
   "id": "25773d4e-e561-4c49-ada0-c07b48b35dca",
   "metadata": {},
   "outputs": [],
   "source": [
    "class rsp:\n",
    "    x = 0\n",
    "    y = 0\n",
    "    def __init__(self,_lst):\n",
    "        self.lst = _lst\n",
    "\n",
    "    def info(self):\n",
    "        self.x = self.x+1\n",
    "        rsp.y = rsp.y+1\n",
    "        print('{}에서 동일한 확률로 실행됩니다.'.format(self.lst))\n",
    "        print('현재 인스턴스에서 실행 횟수: {}'.format(self.x))\n",
    "        print('A클래스에서 만들어진 인스턴스들의 실행 횟수: {}'.format(rsp.y))"
   ]
  },
  {
   "cell_type": "code",
   "execution_count": 51,
   "id": "6916003d-6a62-40d5-a124-47fff63da23d",
   "metadata": {},
   "outputs": [],
   "source": [
    "a = rsp(['가위','바위'])"
   ]
  },
  {
   "cell_type": "code",
   "execution_count": 52,
   "id": "b132134c-35c1-4105-a045-5a4aa78b8ee3",
   "metadata": {},
   "outputs": [],
   "source": [
    "b=rsp(['가위','바위','보'])"
   ]
  },
  {
   "cell_type": "code",
   "execution_count": 53,
   "id": "35b287d0-75d5-43d6-9edd-58c024bbe5b6",
   "metadata": {},
   "outputs": [
    {
     "name": "stdout",
     "output_type": "stream",
     "text": [
      "['가위', '바위']에서 동일한 확률로 실행됩니다.\n",
      "현재 인스턴스에서 실행 횟수: 1\n",
      "A클래스에서 만들어진 인스턴스들의 실행 횟수: 1\n"
     ]
    }
   ],
   "source": [
    "a.info()"
   ]
  },
  {
   "cell_type": "code",
   "execution_count": 54,
   "id": "a85ce784-5bd6-4e6c-afc8-3ea45d7a172d",
   "metadata": {},
   "outputs": [
    {
     "name": "stdout",
     "output_type": "stream",
     "text": [
      "['가위', '바위', '보']에서 동일한 확률로 실행됩니다.\n",
      "현재 인스턴스에서 실행 횟수: 1\n",
      "A클래스에서 만들어진 인스턴스들의 실행 횟수: 2\n"
     ]
    }
   ],
   "source": [
    "b.info()"
   ]
  },
  {
   "cell_type": "code",
   "execution_count": 72,
   "id": "df727588-b360-4007-9e31-9854550eace8",
   "metadata": {},
   "outputs": [],
   "source": [
    "class rsp_game(rsp):\n",
    "    def __init__(self,_lst):\n",
    "        super().__init__(_lst)        \n",
    "        self.actions = [] \n",
    "    \n",
    "    def act(self):\n",
    "        self.actions.append(np.random.choice(self.lst))\n",
    "        return self.actions"
   ]
  },
  {
   "cell_type": "code",
   "execution_count": 97,
   "id": "9600396c-4daa-4c43-b3c6-4c46b9fe31b2",
   "metadata": {
    "scrolled": true
   },
   "outputs": [
    {
     "data": {
      "text/plain": [
       "['가위']"
      ]
     },
     "execution_count": 97,
     "metadata": {},
     "output_type": "execute_result"
    }
   ],
   "source": [
    "rsp_game(['가위','바위']).act()"
   ]
  },
  {
   "cell_type": "code",
   "execution_count": 102,
   "id": "3ff89020-d496-4390-8880-e720168ec93f",
   "metadata": {
    "scrolled": true
   },
   "outputs": [
    {
     "data": {
      "text/plain": [
       "['보']"
      ]
     },
     "execution_count": 102,
     "metadata": {},
     "output_type": "execute_result"
    }
   ],
   "source": [
    "rsp_game(['가위','바위','보']).act()"
   ]
  },
  {
   "cell_type": "code",
   "execution_count": 109,
   "id": "40123be2-a719-4597-bfb6-ac47c42a2e3e",
   "metadata": {},
   "outputs": [],
   "source": [
    "class RSP:\n",
    "    def __init__(self, candidate=['가위', '바위', '보']):\n",
    "        self.candidate = candidate\n",
    "        self.actions = list()\n",
    "        self.results = list()\n",
    "   \n",
    "    def choose(self):\n",
    "        self.actions.append(np.random.choice(self.candidate))\n",
    "    \n",
    "    def __mul__(self, other):\n",
    "        self.choose()\n",
    "        other.choose()\n",
    "        if self.actions[-1] == '가위' and other.actions[-1] == '가위':\n",
    "            self.results.append(0)\n",
    "            other.results.append(0)\n",
    "        elif self.actions[-1] == '가위' and other.actions[-1] == '바위':\n",
    "            self.results.append(-1)\n",
    "            other.results.append(1)\n",
    "        elif self.actions[-1] == '가위' and other.actions[-1] == '보':\n",
    "            self.results.append(1)\n",
    "            other.results.append(-1)\n",
    "        elif self.actions[-1] == '바위' and other.actions[-1] == '가위':\n",
    "            self.results.append(1)\n",
    "            other.results.append(-1)\n",
    "        elif self.actions[-1] == '바위' and other.actions[-1] == '바위':\n",
    "            self.results.append(0)\n",
    "            other.results.append(0)\n",
    "        elif self.actions[-1] == '바위' and other.actions[-1] == '보':\n",
    "            self.results.append(-1)\n",
    "            other.results.append(1)\n",
    "        elif self.actions[-1] == '보' and other.actions[-1] == '가위':\n",
    "            self.results.append(-1)\n",
    "            other.results.append(1)\n",
    "        elif self.actions[-1] == '보' and other.actions[-1] == '바위':\n",
    "            self.results.append(1)\n",
    "            other.results.append(-1)\n",
    "        elif self.actions[-1] == '보' and other.actions[-1] == '보':\n",
    "            self.results.append(0)\n",
    "            other.results.append(0)"
   ]
  },
  {
   "cell_type": "code",
   "execution_count": 113,
   "id": "6993018f-65ff-4255-a93e-45343e96ec69",
   "metadata": {},
   "outputs": [],
   "source": [
    "a2=RSP(['가위','보'])\n",
    "b2=RSP(['가위','바위'])"
   ]
  },
  {
   "cell_type": "code",
   "execution_count": 114,
   "id": "fe3bdd7e-6e6c-4750-bb78-7d1b29346e07",
   "metadata": {},
   "outputs": [],
   "source": [
    "for i in range(50000):\n",
    "    a2*b2"
   ]
  },
  {
   "cell_type": "code",
   "execution_count": 118,
   "id": "ed25483c-8afa-4733-ab3e-464f2218bcb9",
   "metadata": {},
   "outputs": [
    {
     "data": {
      "text/plain": [
       "0.25866"
      ]
     },
     "execution_count": 118,
     "metadata": {},
     "output_type": "execute_result"
    }
   ],
   "source": [
    "sum(b2.results)/len(a2.results)"
   ]
  },
  {
   "cell_type": "code",
   "execution_count": null,
   "id": "b9797a23-06eb-4a72-a61a-65d7c0131377",
   "metadata": {},
   "outputs": [],
   "source": []
  }
 ],
 "metadata": {
  "kernelspec": {
   "display_name": "Python 3 (ipykernel)",
   "language": "python",
   "name": "python3"
  },
  "language_info": {
   "codemirror_mode": {
    "name": "ipython",
    "version": 3
   },
   "file_extension": ".py",
   "mimetype": "text/x-python",
   "name": "python",
   "nbconvert_exporter": "python",
   "pygments_lexer": "ipython3",
   "version": "3.9.12"
  }
 },
 "nbformat": 4,
 "nbformat_minor": 5
}
